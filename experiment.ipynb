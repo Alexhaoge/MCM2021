{
 "cells": [
  {
   "cell_type": "code",
   "execution_count": 1,
   "metadata": {},
   "outputs": [],
   "source": [
    "import pandas as pd\n",
    "from sklearn.model_selection import GridSearchCV\n",
    "from sklearn.linear_model import LogisticRegressionCV, LogisticRegression"
   ]
  },
  {
   "cell_type": "code",
   "execution_count": 2,
   "metadata": {},
   "outputs": [
    {
     "output_type": "execute_result",
     "data": {
      "text/plain": [
       "                                        text_pro     image  time       lat  \\\n",
       "GlobalID                                                                     \n",
       "{1FD6ACB8-F6A8-4DE1-A3E7-41B8B855A615}  0.311351  0.009854     1  0.241247   \n",
       "{8A3CBA16-6B50-4723-AB66-8637A185B6D1}  0.338704  0.009854     1  0.267127   \n",
       "{9E37A2AC-716C-4CE7-82F2-C29BE18253FA}  0.264558  0.009911     1  0.254471   \n",
       "{9F458526-1FF1-4FEE-8592-CE767A4828CA}  0.226866  0.009854     1  0.645435   \n",
       "{0F53D708-3442-4AE5-BFC5-75905DE1BEB4}  0.235950  0.009854     1  0.469502   \n",
       "\n",
       "                                             lon  label  \n",
       "GlobalID                                                 \n",
       "{1FD6ACB8-F6A8-4DE1-A3E7-41B8B855A615}  0.171261     -1  \n",
       "{8A3CBA16-6B50-4723-AB66-8637A185B6D1}  0.177891     -1  \n",
       "{9E37A2AC-716C-4CE7-82F2-C29BE18253FA}  0.019820      0  \n",
       "{9F458526-1FF1-4FEE-8592-CE767A4828CA}  0.225989     -1  \n",
       "{0F53D708-3442-4AE5-BFC5-75905DE1BEB4}  0.272753     -1  "
      ],
      "text/html": "<div>\n<style scoped>\n    .dataframe tbody tr th:only-of-type {\n        vertical-align: middle;\n    }\n\n    .dataframe tbody tr th {\n        vertical-align: top;\n    }\n\n    .dataframe thead th {\n        text-align: right;\n    }\n</style>\n<table border=\"1\" class=\"dataframe\">\n  <thead>\n    <tr style=\"text-align: right;\">\n      <th></th>\n      <th>text_pro</th>\n      <th>image</th>\n      <th>time</th>\n      <th>lat</th>\n      <th>lon</th>\n      <th>label</th>\n    </tr>\n    <tr>\n      <th>GlobalID</th>\n      <th></th>\n      <th></th>\n      <th></th>\n      <th></th>\n      <th></th>\n      <th></th>\n    </tr>\n  </thead>\n  <tbody>\n    <tr>\n      <th>{1FD6ACB8-F6A8-4DE1-A3E7-41B8B855A615}</th>\n      <td>0.311351</td>\n      <td>0.009854</td>\n      <td>1</td>\n      <td>0.241247</td>\n      <td>0.171261</td>\n      <td>-1</td>\n    </tr>\n    <tr>\n      <th>{8A3CBA16-6B50-4723-AB66-8637A185B6D1}</th>\n      <td>0.338704</td>\n      <td>0.009854</td>\n      <td>1</td>\n      <td>0.267127</td>\n      <td>0.177891</td>\n      <td>-1</td>\n    </tr>\n    <tr>\n      <th>{9E37A2AC-716C-4CE7-82F2-C29BE18253FA}</th>\n      <td>0.264558</td>\n      <td>0.009911</td>\n      <td>1</td>\n      <td>0.254471</td>\n      <td>0.019820</td>\n      <td>0</td>\n    </tr>\n    <tr>\n      <th>{9F458526-1FF1-4FEE-8592-CE767A4828CA}</th>\n      <td>0.226866</td>\n      <td>0.009854</td>\n      <td>1</td>\n      <td>0.645435</td>\n      <td>0.225989</td>\n      <td>-1</td>\n    </tr>\n    <tr>\n      <th>{0F53D708-3442-4AE5-BFC5-75905DE1BEB4}</th>\n      <td>0.235950</td>\n      <td>0.009854</td>\n      <td>1</td>\n      <td>0.469502</td>\n      <td>0.272753</td>\n      <td>-1</td>\n    </tr>\n  </tbody>\n</table>\n</div>"
     },
     "metadata": {},
     "execution_count": 2
    }
   ],
   "source": [
    "data = pd.read_csv('data/dataset2.csv', index_col='GlobalID')\n",
    "ds = data[data.label>-1]\n",
    "data.head()"
   ]
  },
  {
   "cell_type": "code",
   "execution_count": 3,
   "metadata": {},
   "outputs": [
    {
     "output_type": "execute_result",
     "data": {
      "text/plain": [
       "                                        text_pro     image  time       lat  \\\n",
       "GlobalID                                                                     \n",
       "{1FD6ACB8-F6A8-4DE1-A3E7-41B8B855A615}  0.311351  0.009854     1  0.241247   \n",
       "{8A3CBA16-6B50-4723-AB66-8637A185B6D1}  0.338704  0.009854     1  0.267127   \n",
       "{9F458526-1FF1-4FEE-8592-CE767A4828CA}  0.226866  0.009854     1  0.645435   \n",
       "{0F53D708-3442-4AE5-BFC5-75905DE1BEB4}  0.235950  0.009854     1  0.469502   \n",
       "{2FFCC19F-8A04-4246-9FDE-C48A1C75B6D6}  0.269741  0.009854     1  0.089292   \n",
       "\n",
       "                                             lon  label  \n",
       "GlobalID                                                 \n",
       "{1FD6ACB8-F6A8-4DE1-A3E7-41B8B855A615}  0.171261     -1  \n",
       "{8A3CBA16-6B50-4723-AB66-8637A185B6D1}  0.177891     -1  \n",
       "{9F458526-1FF1-4FEE-8592-CE767A4828CA}  0.225989     -1  \n",
       "{0F53D708-3442-4AE5-BFC5-75905DE1BEB4}  0.272753     -1  \n",
       "{2FFCC19F-8A04-4246-9FDE-C48A1C75B6D6}  0.370965     -1  "
      ],
      "text/html": "<div>\n<style scoped>\n    .dataframe tbody tr th:only-of-type {\n        vertical-align: middle;\n    }\n\n    .dataframe tbody tr th {\n        vertical-align: top;\n    }\n\n    .dataframe thead th {\n        text-align: right;\n    }\n</style>\n<table border=\"1\" class=\"dataframe\">\n  <thead>\n    <tr style=\"text-align: right;\">\n      <th></th>\n      <th>text_pro</th>\n      <th>image</th>\n      <th>time</th>\n      <th>lat</th>\n      <th>lon</th>\n      <th>label</th>\n    </tr>\n    <tr>\n      <th>GlobalID</th>\n      <th></th>\n      <th></th>\n      <th></th>\n      <th></th>\n      <th></th>\n      <th></th>\n    </tr>\n  </thead>\n  <tbody>\n    <tr>\n      <th>{1FD6ACB8-F6A8-4DE1-A3E7-41B8B855A615}</th>\n      <td>0.311351</td>\n      <td>0.009854</td>\n      <td>1</td>\n      <td>0.241247</td>\n      <td>0.171261</td>\n      <td>-1</td>\n    </tr>\n    <tr>\n      <th>{8A3CBA16-6B50-4723-AB66-8637A185B6D1}</th>\n      <td>0.338704</td>\n      <td>0.009854</td>\n      <td>1</td>\n      <td>0.267127</td>\n      <td>0.177891</td>\n      <td>-1</td>\n    </tr>\n    <tr>\n      <th>{9F458526-1FF1-4FEE-8592-CE767A4828CA}</th>\n      <td>0.226866</td>\n      <td>0.009854</td>\n      <td>1</td>\n      <td>0.645435</td>\n      <td>0.225989</td>\n      <td>-1</td>\n    </tr>\n    <tr>\n      <th>{0F53D708-3442-4AE5-BFC5-75905DE1BEB4}</th>\n      <td>0.235950</td>\n      <td>0.009854</td>\n      <td>1</td>\n      <td>0.469502</td>\n      <td>0.272753</td>\n      <td>-1</td>\n    </tr>\n    <tr>\n      <th>{2FFCC19F-8A04-4246-9FDE-C48A1C75B6D6}</th>\n      <td>0.269741</td>\n      <td>0.009854</td>\n      <td>1</td>\n      <td>0.089292</td>\n      <td>0.370965</td>\n      <td>-1</td>\n    </tr>\n  </tbody>\n</table>\n</div>"
     },
     "metadata": {},
     "execution_count": 3
    }
   ],
   "source": [
    "from joblib import load\n",
    "model = load('output/2021_02_09_03_10_43/best_model')\n",
    "d = data[data.label==-1]\n",
    "d.head()"
   ]
  },
  {
   "cell_type": "code",
   "execution_count": 4,
   "metadata": {},
   "outputs": [],
   "source": [
    "X = d.drop(axis=1, columns='label')\n",
    "X['label_proba'] = model.predict_proba(X)[:,1]\n",
    "X['label'] = X['label_proba'].apply(lambda x: 1 if x>0.75 else 0)"
   ]
  },
  {
   "cell_type": "code",
   "execution_count": 5,
   "metadata": {},
   "outputs": [
    {
     "output_type": "execute_result",
     "data": {
      "text/plain": [
       "                                        text_pro     image  time       lat  \\\n",
       "GlobalID                                                                     \n",
       "{1FD6ACB8-F6A8-4DE1-A3E7-41B8B855A615}  0.311351  0.009854     1  0.241247   \n",
       "{8A3CBA16-6B50-4723-AB66-8637A185B6D1}  0.338704  0.009854     1  0.267127   \n",
       "{9E37A2AC-716C-4CE7-82F2-C29BE18253FA}  0.264558  0.009911     1  0.254471   \n",
       "{9F458526-1FF1-4FEE-8592-CE767A4828CA}  0.226866  0.009854     1  0.645435   \n",
       "{0F53D708-3442-4AE5-BFC5-75905DE1BEB4}  0.235950  0.009854     1  0.469502   \n",
       "\n",
       "                                             lon  label  label_proba  \n",
       "GlobalID                                                              \n",
       "{1FD6ACB8-F6A8-4DE1-A3E7-41B8B855A615}  0.171261      0     0.000019  \n",
       "{8A3CBA16-6B50-4723-AB66-8637A185B6D1}  0.177891      0     0.000035  \n",
       "{9E37A2AC-716C-4CE7-82F2-C29BE18253FA}  0.019820      0     0.000000  \n",
       "{9F458526-1FF1-4FEE-8592-CE767A4828CA}  0.225989      0     0.208038  \n",
       "{0F53D708-3442-4AE5-BFC5-75905DE1BEB4}  0.272753      0     0.004099  "
      ],
      "text/html": "<div>\n<style scoped>\n    .dataframe tbody tr th:only-of-type {\n        vertical-align: middle;\n    }\n\n    .dataframe tbody tr th {\n        vertical-align: top;\n    }\n\n    .dataframe thead th {\n        text-align: right;\n    }\n</style>\n<table border=\"1\" class=\"dataframe\">\n  <thead>\n    <tr style=\"text-align: right;\">\n      <th></th>\n      <th>text_pro</th>\n      <th>image</th>\n      <th>time</th>\n      <th>lat</th>\n      <th>lon</th>\n      <th>label</th>\n      <th>label_proba</th>\n    </tr>\n    <tr>\n      <th>GlobalID</th>\n      <th></th>\n      <th></th>\n      <th></th>\n      <th></th>\n      <th></th>\n      <th></th>\n      <th></th>\n    </tr>\n  </thead>\n  <tbody>\n    <tr>\n      <th>{1FD6ACB8-F6A8-4DE1-A3E7-41B8B855A615}</th>\n      <td>0.311351</td>\n      <td>0.009854</td>\n      <td>1</td>\n      <td>0.241247</td>\n      <td>0.171261</td>\n      <td>0</td>\n      <td>0.000019</td>\n    </tr>\n    <tr>\n      <th>{8A3CBA16-6B50-4723-AB66-8637A185B6D1}</th>\n      <td>0.338704</td>\n      <td>0.009854</td>\n      <td>1</td>\n      <td>0.267127</td>\n      <td>0.177891</td>\n      <td>0</td>\n      <td>0.000035</td>\n    </tr>\n    <tr>\n      <th>{9E37A2AC-716C-4CE7-82F2-C29BE18253FA}</th>\n      <td>0.264558</td>\n      <td>0.009911</td>\n      <td>1</td>\n      <td>0.254471</td>\n      <td>0.019820</td>\n      <td>0</td>\n      <td>0.000000</td>\n    </tr>\n    <tr>\n      <th>{9F458526-1FF1-4FEE-8592-CE767A4828CA}</th>\n      <td>0.226866</td>\n      <td>0.009854</td>\n      <td>1</td>\n      <td>0.645435</td>\n      <td>0.225989</td>\n      <td>0</td>\n      <td>0.208038</td>\n    </tr>\n    <tr>\n      <th>{0F53D708-3442-4AE5-BFC5-75905DE1BEB4}</th>\n      <td>0.235950</td>\n      <td>0.009854</td>\n      <td>1</td>\n      <td>0.469502</td>\n      <td>0.272753</td>\n      <td>0</td>\n      <td>0.004099</td>\n    </tr>\n  </tbody>\n</table>\n</div>"
     },
     "metadata": {},
     "execution_count": 5
    }
   ],
   "source": [
    "index = data[data.label==-1].index\n",
    "data['label_proba'] = data['label']\n",
    "for j in index:\n",
    "    data.loc[j, 'label_proba'] = X.loc[j, 'label_proba']\n",
    "    data.loc[j, 'label'] = X.loc[j, 'label']\n",
    "data.head()"
   ]
  },
  {
   "cell_type": "code",
   "execution_count": null,
   "metadata": {},
   "outputs": [],
   "source": [
    "data.to_csv('output/result.csv', index=True)"
   ]
  }
 ],
 "metadata": {
  "kernelspec": {
   "display_name": "Python 3",
   "language": "python",
   "name": "python3"
  },
  "language_info": {
   "codemirror_mode": {
    "name": "ipython",
    "version": 3
   },
   "file_extension": ".py",
   "mimetype": "text/x-python",
   "name": "python",
   "nbconvert_exporter": "python",
   "pygments_lexer": "ipython3",
   "version": "3.8.3-final"
  }
 },
 "nbformat": 4,
 "nbformat_minor": 4
}